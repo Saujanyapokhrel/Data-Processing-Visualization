{
  "nbformat": 4,
  "nbformat_minor": 0,
  "metadata": {
    "colab": {
      "name": "Untitled37.ipynb",
      "provenance": [],
      "authorship_tag": "ABX9TyNYA0qVY7Mqb1ZvSPqh0gZm",
      "include_colab_link": true
    },
    "kernelspec": {
      "name": "python3",
      "display_name": "Python 3"
    },
    "language_info": {
      "name": "python"
    }
  },
  "cells": [
    {
      "cell_type": "markdown",
      "metadata": {
        "id": "view-in-github",
        "colab_type": "text"
      },
      "source": [
        "<a href=\"https://colab.research.google.com/github/Saujanyapokhrel/Data-Processing-Visualization/blob/main/Recreating%20masters%20final.ipynb\" target=\"_parent\"><img src=\"https://colab.research.google.com/assets/colab-badge.svg\" alt=\"Open In Colab\"/></a>"
      ]
    },
    {
      "cell_type": "markdown",
      "source": [
        "#CPSMA 4313-01\n",
        "#Dr Jacob Data processing visualization\n",
        "#Saujanya Pokhrel\n",
        "#Initial visualization"
      ],
      "metadata": {
        "id": "AqyHkWCCVbwT"
      }
    },
    {
      "cell_type": "markdown",
      "source": [
        "## dataseet link:https://en.wikipedia.org/wiki/List_of_most_valuable_brands\n",
        "## link to original visualization: https://www.marketingcharts.com/brand-related/top-brands-118855\n"
      ],
      "metadata": {
        "id": "OpEFRExsVsZ0"
      }
    },
    {
      "cell_type": "markdown",
      "source": [
        "## importing the required libraries."
      ],
      "metadata": {
        "id": "of6vv8YvWGbe"
      }
    },
    {
      "cell_type": "code",
      "execution_count": 115,
      "metadata": {
        "id": "9BvqMbLPVasm"
      },
      "outputs": [],
      "source": [
        "import pandas as pd\n",
        "import matplotlib.pyplot as plt\n",
        "from matplotlib.offsetbox import TextArea, DrawingArea, OffsetImage, AnnotationBbox"
      ]
    },
    {
      "cell_type": "markdown",
      "source": [
        "importing the dataset"
      ],
      "metadata": {
        "id": "FfRur7vaWJxP"
      }
    },
    {
      "cell_type": "code",
      "source": [
        "table = pd.read_html('https://en.wikipedia.org/wiki/List_of_most_valuable_brands')\n",
        "\n",
        "brand= table[2]\n",
        "\n",
        "brand.columns = ['Rank','Brand','Country','Brand value']\n",
        "\n",
        "brand.head(10)"
      ],
      "metadata": {
        "colab": {
          "base_uri": "https://localhost:8080/",
          "height": 363
        },
        "id": "kbB-9OvXWMyd",
        "outputId": "0871e599-769f-4fcf-c709-d24897396874"
      },
      "execution_count": 116,
      "outputs": [
        {
          "output_type": "execute_result",
          "data": {
            "text/plain": [
              "   Rank                   Brand        Country  Brand value\n",
              "0     1              Apple Inc.  United States       263375\n",
              "1     2        Amazon.com, Inc.  United States       254188\n",
              "2     3              Google LLC  United States       191215\n",
              "3     4          Microsoft Corp  United States       140435\n",
              "4     5                 Samsung    South Korea       102623\n",
              "5     6            Walmart, Inc  United States        93185\n",
              "6     7    Meta Platforms, Inc.  United States        81476\n",
              "7     8                    ICBC          China        72788\n",
              "8     9  Verizon Communications  United States        68890\n",
              "9    10                  WeChat          China        67902"
            ],
            "text/html": [
              "\n",
              "  <div id=\"df-46c4dc10-0c6c-446d-8c75-04730be0124c\">\n",
              "    <div class=\"colab-df-container\">\n",
              "      <div>\n",
              "<style scoped>\n",
              "    .dataframe tbody tr th:only-of-type {\n",
              "        vertical-align: middle;\n",
              "    }\n",
              "\n",
              "    .dataframe tbody tr th {\n",
              "        vertical-align: top;\n",
              "    }\n",
              "\n",
              "    .dataframe thead th {\n",
              "        text-align: right;\n",
              "    }\n",
              "</style>\n",
              "<table border=\"1\" class=\"dataframe\">\n",
              "  <thead>\n",
              "    <tr style=\"text-align: right;\">\n",
              "      <th></th>\n",
              "      <th>Rank</th>\n",
              "      <th>Brand</th>\n",
              "      <th>Country</th>\n",
              "      <th>Brand value</th>\n",
              "    </tr>\n",
              "  </thead>\n",
              "  <tbody>\n",
              "    <tr>\n",
              "      <th>0</th>\n",
              "      <td>1</td>\n",
              "      <td>Apple Inc.</td>\n",
              "      <td>United States</td>\n",
              "      <td>263375</td>\n",
              "    </tr>\n",
              "    <tr>\n",
              "      <th>1</th>\n",
              "      <td>2</td>\n",
              "      <td>Amazon.com, Inc.</td>\n",
              "      <td>United States</td>\n",
              "      <td>254188</td>\n",
              "    </tr>\n",
              "    <tr>\n",
              "      <th>2</th>\n",
              "      <td>3</td>\n",
              "      <td>Google LLC</td>\n",
              "      <td>United States</td>\n",
              "      <td>191215</td>\n",
              "    </tr>\n",
              "    <tr>\n",
              "      <th>3</th>\n",
              "      <td>4</td>\n",
              "      <td>Microsoft Corp</td>\n",
              "      <td>United States</td>\n",
              "      <td>140435</td>\n",
              "    </tr>\n",
              "    <tr>\n",
              "      <th>4</th>\n",
              "      <td>5</td>\n",
              "      <td>Samsung</td>\n",
              "      <td>South Korea</td>\n",
              "      <td>102623</td>\n",
              "    </tr>\n",
              "    <tr>\n",
              "      <th>5</th>\n",
              "      <td>6</td>\n",
              "      <td>Walmart, Inc</td>\n",
              "      <td>United States</td>\n",
              "      <td>93185</td>\n",
              "    </tr>\n",
              "    <tr>\n",
              "      <th>6</th>\n",
              "      <td>7</td>\n",
              "      <td>Meta Platforms, Inc.</td>\n",
              "      <td>United States</td>\n",
              "      <td>81476</td>\n",
              "    </tr>\n",
              "    <tr>\n",
              "      <th>7</th>\n",
              "      <td>8</td>\n",
              "      <td>ICBC</td>\n",
              "      <td>China</td>\n",
              "      <td>72788</td>\n",
              "    </tr>\n",
              "    <tr>\n",
              "      <th>8</th>\n",
              "      <td>9</td>\n",
              "      <td>Verizon Communications</td>\n",
              "      <td>United States</td>\n",
              "      <td>68890</td>\n",
              "    </tr>\n",
              "    <tr>\n",
              "      <th>9</th>\n",
              "      <td>10</td>\n",
              "      <td>WeChat</td>\n",
              "      <td>China</td>\n",
              "      <td>67902</td>\n",
              "    </tr>\n",
              "  </tbody>\n",
              "</table>\n",
              "</div>\n",
              "      <button class=\"colab-df-convert\" onclick=\"convertToInteractive('df-46c4dc10-0c6c-446d-8c75-04730be0124c')\"\n",
              "              title=\"Convert this dataframe to an interactive table.\"\n",
              "              style=\"display:none;\">\n",
              "        \n",
              "  <svg xmlns=\"http://www.w3.org/2000/svg\" height=\"24px\"viewBox=\"0 0 24 24\"\n",
              "       width=\"24px\">\n",
              "    <path d=\"M0 0h24v24H0V0z\" fill=\"none\"/>\n",
              "    <path d=\"M18.56 5.44l.94 2.06.94-2.06 2.06-.94-2.06-.94-.94-2.06-.94 2.06-2.06.94zm-11 1L8.5 8.5l.94-2.06 2.06-.94-2.06-.94L8.5 2.5l-.94 2.06-2.06.94zm10 10l.94 2.06.94-2.06 2.06-.94-2.06-.94-.94-2.06-.94 2.06-2.06.94z\"/><path d=\"M17.41 7.96l-1.37-1.37c-.4-.4-.92-.59-1.43-.59-.52 0-1.04.2-1.43.59L10.3 9.45l-7.72 7.72c-.78.78-.78 2.05 0 2.83L4 21.41c.39.39.9.59 1.41.59.51 0 1.02-.2 1.41-.59l7.78-7.78 2.81-2.81c.8-.78.8-2.07 0-2.86zM5.41 20L4 18.59l7.72-7.72 1.47 1.35L5.41 20z\"/>\n",
              "  </svg>\n",
              "      </button>\n",
              "      \n",
              "  <style>\n",
              "    .colab-df-container {\n",
              "      display:flex;\n",
              "      flex-wrap:wrap;\n",
              "      gap: 12px;\n",
              "    }\n",
              "\n",
              "    .colab-df-convert {\n",
              "      background-color: #E8F0FE;\n",
              "      border: none;\n",
              "      border-radius: 50%;\n",
              "      cursor: pointer;\n",
              "      display: none;\n",
              "      fill: #1967D2;\n",
              "      height: 32px;\n",
              "      padding: 0 0 0 0;\n",
              "      width: 32px;\n",
              "    }\n",
              "\n",
              "    .colab-df-convert:hover {\n",
              "      background-color: #E2EBFA;\n",
              "      box-shadow: 0px 1px 2px rgba(60, 64, 67, 0.3), 0px 1px 3px 1px rgba(60, 64, 67, 0.15);\n",
              "      fill: #174EA6;\n",
              "    }\n",
              "\n",
              "    [theme=dark] .colab-df-convert {\n",
              "      background-color: #3B4455;\n",
              "      fill: #D2E3FC;\n",
              "    }\n",
              "\n",
              "    [theme=dark] .colab-df-convert:hover {\n",
              "      background-color: #434B5C;\n",
              "      box-shadow: 0px 1px 3px 1px rgba(0, 0, 0, 0.15);\n",
              "      filter: drop-shadow(0px 1px 2px rgba(0, 0, 0, 0.3));\n",
              "      fill: #FFFFFF;\n",
              "    }\n",
              "  </style>\n",
              "\n",
              "      <script>\n",
              "        const buttonEl =\n",
              "          document.querySelector('#df-46c4dc10-0c6c-446d-8c75-04730be0124c button.colab-df-convert');\n",
              "        buttonEl.style.display =\n",
              "          google.colab.kernel.accessAllowed ? 'block' : 'none';\n",
              "\n",
              "        async function convertToInteractive(key) {\n",
              "          const element = document.querySelector('#df-46c4dc10-0c6c-446d-8c75-04730be0124c');\n",
              "          const dataTable =\n",
              "            await google.colab.kernel.invokeFunction('convertToInteractive',\n",
              "                                                     [key], {});\n",
              "          if (!dataTable) return;\n",
              "\n",
              "          const docLinkHtml = 'Like what you see? Visit the ' +\n",
              "            '<a target=\"_blank\" href=https://colab.research.google.com/notebooks/data_table.ipynb>data table notebook</a>'\n",
              "            + ' to learn more about interactive tables.';\n",
              "          element.innerHTML = '';\n",
              "          dataTable['output_type'] = 'display_data';\n",
              "          await google.colab.output.renderOutput(dataTable, element);\n",
              "          const docLink = document.createElement('div');\n",
              "          docLink.innerHTML = docLinkHtml;\n",
              "          element.appendChild(docLink);\n",
              "        }\n",
              "      </script>\n",
              "    </div>\n",
              "  </div>\n",
              "  "
            ]
          },
          "metadata": {},
          "execution_count": 116
        }
      ]
    },
    {
      "cell_type": "code",
      "source": [
        "brand=brand.sort_values(\"Brand value\",ascending=False)\n",
        "brand"
      ],
      "metadata": {
        "id": "SlOD5PwDILWY",
        "outputId": "72237f1a-7317-418b-f0c5-9f5d48876aca",
        "colab": {
          "base_uri": "https://localhost:8080/",
          "height": 363
        }
      },
      "execution_count": 117,
      "outputs": [
        {
          "output_type": "execute_result",
          "data": {
            "text/plain": [
              "   Rank                   Brand        Country  Brand value\n",
              "0     1              Apple Inc.  United States       263375\n",
              "1     2        Amazon.com, Inc.  United States       254188\n",
              "2     3              Google LLC  United States       191215\n",
              "3     4          Microsoft Corp  United States       140435\n",
              "4     5                 Samsung    South Korea       102623\n",
              "5     6            Walmart, Inc  United States        93185\n",
              "6     7    Meta Platforms, Inc.  United States        81476\n",
              "7     8                    ICBC          China        72788\n",
              "8     9  Verizon Communications  United States        68890\n",
              "9    10                  WeChat          China        67902"
            ],
            "text/html": [
              "\n",
              "  <div id=\"df-a2c6afbb-b72f-4bfb-b965-5565501e1160\">\n",
              "    <div class=\"colab-df-container\">\n",
              "      <div>\n",
              "<style scoped>\n",
              "    .dataframe tbody tr th:only-of-type {\n",
              "        vertical-align: middle;\n",
              "    }\n",
              "\n",
              "    .dataframe tbody tr th {\n",
              "        vertical-align: top;\n",
              "    }\n",
              "\n",
              "    .dataframe thead th {\n",
              "        text-align: right;\n",
              "    }\n",
              "</style>\n",
              "<table border=\"1\" class=\"dataframe\">\n",
              "  <thead>\n",
              "    <tr style=\"text-align: right;\">\n",
              "      <th></th>\n",
              "      <th>Rank</th>\n",
              "      <th>Brand</th>\n",
              "      <th>Country</th>\n",
              "      <th>Brand value</th>\n",
              "    </tr>\n",
              "  </thead>\n",
              "  <tbody>\n",
              "    <tr>\n",
              "      <th>0</th>\n",
              "      <td>1</td>\n",
              "      <td>Apple Inc.</td>\n",
              "      <td>United States</td>\n",
              "      <td>263375</td>\n",
              "    </tr>\n",
              "    <tr>\n",
              "      <th>1</th>\n",
              "      <td>2</td>\n",
              "      <td>Amazon.com, Inc.</td>\n",
              "      <td>United States</td>\n",
              "      <td>254188</td>\n",
              "    </tr>\n",
              "    <tr>\n",
              "      <th>2</th>\n",
              "      <td>3</td>\n",
              "      <td>Google LLC</td>\n",
              "      <td>United States</td>\n",
              "      <td>191215</td>\n",
              "    </tr>\n",
              "    <tr>\n",
              "      <th>3</th>\n",
              "      <td>4</td>\n",
              "      <td>Microsoft Corp</td>\n",
              "      <td>United States</td>\n",
              "      <td>140435</td>\n",
              "    </tr>\n",
              "    <tr>\n",
              "      <th>4</th>\n",
              "      <td>5</td>\n",
              "      <td>Samsung</td>\n",
              "      <td>South Korea</td>\n",
              "      <td>102623</td>\n",
              "    </tr>\n",
              "    <tr>\n",
              "      <th>5</th>\n",
              "      <td>6</td>\n",
              "      <td>Walmart, Inc</td>\n",
              "      <td>United States</td>\n",
              "      <td>93185</td>\n",
              "    </tr>\n",
              "    <tr>\n",
              "      <th>6</th>\n",
              "      <td>7</td>\n",
              "      <td>Meta Platforms, Inc.</td>\n",
              "      <td>United States</td>\n",
              "      <td>81476</td>\n",
              "    </tr>\n",
              "    <tr>\n",
              "      <th>7</th>\n",
              "      <td>8</td>\n",
              "      <td>ICBC</td>\n",
              "      <td>China</td>\n",
              "      <td>72788</td>\n",
              "    </tr>\n",
              "    <tr>\n",
              "      <th>8</th>\n",
              "      <td>9</td>\n",
              "      <td>Verizon Communications</td>\n",
              "      <td>United States</td>\n",
              "      <td>68890</td>\n",
              "    </tr>\n",
              "    <tr>\n",
              "      <th>9</th>\n",
              "      <td>10</td>\n",
              "      <td>WeChat</td>\n",
              "      <td>China</td>\n",
              "      <td>67902</td>\n",
              "    </tr>\n",
              "  </tbody>\n",
              "</table>\n",
              "</div>\n",
              "      <button class=\"colab-df-convert\" onclick=\"convertToInteractive('df-a2c6afbb-b72f-4bfb-b965-5565501e1160')\"\n",
              "              title=\"Convert this dataframe to an interactive table.\"\n",
              "              style=\"display:none;\">\n",
              "        \n",
              "  <svg xmlns=\"http://www.w3.org/2000/svg\" height=\"24px\"viewBox=\"0 0 24 24\"\n",
              "       width=\"24px\">\n",
              "    <path d=\"M0 0h24v24H0V0z\" fill=\"none\"/>\n",
              "    <path d=\"M18.56 5.44l.94 2.06.94-2.06 2.06-.94-2.06-.94-.94-2.06-.94 2.06-2.06.94zm-11 1L8.5 8.5l.94-2.06 2.06-.94-2.06-.94L8.5 2.5l-.94 2.06-2.06.94zm10 10l.94 2.06.94-2.06 2.06-.94-2.06-.94-.94-2.06-.94 2.06-2.06.94z\"/><path d=\"M17.41 7.96l-1.37-1.37c-.4-.4-.92-.59-1.43-.59-.52 0-1.04.2-1.43.59L10.3 9.45l-7.72 7.72c-.78.78-.78 2.05 0 2.83L4 21.41c.39.39.9.59 1.41.59.51 0 1.02-.2 1.41-.59l7.78-7.78 2.81-2.81c.8-.78.8-2.07 0-2.86zM5.41 20L4 18.59l7.72-7.72 1.47 1.35L5.41 20z\"/>\n",
              "  </svg>\n",
              "      </button>\n",
              "      \n",
              "  <style>\n",
              "    .colab-df-container {\n",
              "      display:flex;\n",
              "      flex-wrap:wrap;\n",
              "      gap: 12px;\n",
              "    }\n",
              "\n",
              "    .colab-df-convert {\n",
              "      background-color: #E8F0FE;\n",
              "      border: none;\n",
              "      border-radius: 50%;\n",
              "      cursor: pointer;\n",
              "      display: none;\n",
              "      fill: #1967D2;\n",
              "      height: 32px;\n",
              "      padding: 0 0 0 0;\n",
              "      width: 32px;\n",
              "    }\n",
              "\n",
              "    .colab-df-convert:hover {\n",
              "      background-color: #E2EBFA;\n",
              "      box-shadow: 0px 1px 2px rgba(60, 64, 67, 0.3), 0px 1px 3px 1px rgba(60, 64, 67, 0.15);\n",
              "      fill: #174EA6;\n",
              "    }\n",
              "\n",
              "    [theme=dark] .colab-df-convert {\n",
              "      background-color: #3B4455;\n",
              "      fill: #D2E3FC;\n",
              "    }\n",
              "\n",
              "    [theme=dark] .colab-df-convert:hover {\n",
              "      background-color: #434B5C;\n",
              "      box-shadow: 0px 1px 3px 1px rgba(0, 0, 0, 0.15);\n",
              "      filter: drop-shadow(0px 1px 2px rgba(0, 0, 0, 0.3));\n",
              "      fill: #FFFFFF;\n",
              "    }\n",
              "  </style>\n",
              "\n",
              "      <script>\n",
              "        const buttonEl =\n",
              "          document.querySelector('#df-a2c6afbb-b72f-4bfb-b965-5565501e1160 button.colab-df-convert');\n",
              "        buttonEl.style.display =\n",
              "          google.colab.kernel.accessAllowed ? 'block' : 'none';\n",
              "\n",
              "        async function convertToInteractive(key) {\n",
              "          const element = document.querySelector('#df-a2c6afbb-b72f-4bfb-b965-5565501e1160');\n",
              "          const dataTable =\n",
              "            await google.colab.kernel.invokeFunction('convertToInteractive',\n",
              "                                                     [key], {});\n",
              "          if (!dataTable) return;\n",
              "\n",
              "          const docLinkHtml = 'Like what you see? Visit the ' +\n",
              "            '<a target=\"_blank\" href=https://colab.research.google.com/notebooks/data_table.ipynb>data table notebook</a>'\n",
              "            + ' to learn more about interactive tables.';\n",
              "          element.innerHTML = '';\n",
              "          dataTable['output_type'] = 'display_data';\n",
              "          await google.colab.output.renderOutput(dataTable, element);\n",
              "          const docLink = document.createElement('div');\n",
              "          docLink.innerHTML = docLinkHtml;\n",
              "          element.appendChild(docLink);\n",
              "        }\n",
              "      </script>\n",
              "    </div>\n",
              "  </div>\n",
              "  "
            ]
          },
          "metadata": {},
          "execution_count": 117
        }
      ]
    },
    {
      "cell_type": "code",
      "source": [
        "brand[[\"Brand\",\"Brand value\"]].sort_values(by=\"Brand value\").plot(kind=\"barh\")#plt.barh(brand.Brand,brand[\"Brand value\"])\n",
        "plt.title('top 10 brand in the world')\n",
        "plt.ylabel('Brand')\n",
        "plt.xlabel('Brand value')\n",
        "plt.show()\n"
      ],
      "metadata": {
        "colab": {
          "base_uri": "https://localhost:8080/",
          "height": 295
        },
        "id": "Tk_Qkvq6diAa",
        "outputId": "d2c7a422-0700-43b3-8df5-2677b0883ad8"
      },
      "execution_count": 118,
      "outputs": [
        {
          "output_type": "display_data",
          "data": {
            "text/plain": [
              "<Figure size 432x288 with 1 Axes>"
            ],
            "image/png": "[encoded data removed]"
          },
          "metadata": {
            "needs_background": "light"
          }
        }
      ]
    },
    {
      "cell_type": "code",
      "source": [
        "ax=brand[[\"Brand\",\"Brand value\"]].sort_values(by=\"Brand value\").plot(kind=\"barh\")\n",
        "#plt.barh(brand.Brand,brand[\"Brand value\"])\n",
        "plt.title('Top 10 brand in the world')\n",
        "plt.ylabel('Brand')\n",
        "plt.xlabel('Brand value')\n",
        "plt.yticks(range(len(brand)),brand.sort_values(by=\"Brand value\")[\"Brand\"].unique())\n",
        "for p in ax.patches:\n",
        "    width = p.get_width()\n",
        "    plt.text(0.8*p.get_width(), p.get_y()+0.55*p.get_height(),\n",
        "             '{:.0f}'.format(width),\n",
        "             ha='center', va='center')\n",
        "plt.show()"
      ],
      "metadata": {
        "id": "TiJx1fmYJf8b",
        "outputId": "5102de7e-4d51-4663-dd45-ab32b887d31a",
        "colab": {
          "base_uri": "https://localhost:8080/",
          "height": 295
        }
      },
      "execution_count": 119,
      "outputs": [
        {
          "output_type": "display_data",
          "data": {
            "text/plain": [
              "<Figure size 432x288 with 1 Axes>"
            ],
            "image/png": "[encoded data removed]"
          },
          "metadata": {
            "needs_background": "light"
          }
        }
      ]
    },
    {
      "cell_type": "code",
      "source": [
        "ax=brand[[\"Brand\",\"Brand value\"]].sort_values(by=\"Brand value\").plot(kind=\"barh\")\n",
        "#plt.barh(brand.Brand,brand[\"Brand value\"])\n",
        "plt.title('Top 10 brand in the world')\n",
        "plt.ylabel('Brand')\n",
        "plt.xlabel('Brand value')\n",
        "plt.yticks(range(len(brand)),brand.sort_values(by=\"Brand value\")[\"Brand\"].unique())\n",
        "for p in ax.patches:\n",
        "    width = p.get_width()\n",
        "    plt.text(0.8*p.get_width(), p.get_y()+0.55*p.get_height(),\n",
        "             '{:.0f}'.format(width),\n",
        "             ha='center', va='center')\n",
        "  \n",
        "\n",
        "\n",
        "link='https://raw.githubusercontent.com/Saujanyapokhrel/Data-Processing-Visualization/main/logo.png'\n",
        "arr_lena = plt.imread(link)\n",
        "\n",
        "\n",
        "imagebox = OffsetImage(arr_lena, zoom=0.3)\n",
        "\n",
        "ab = AnnotationBbox(imagebox, (240000, 1), frameon = False)\n",
        "\n",
        "ax.add_artist(ab)\n",
        "plt.show()"
      ],
      "metadata": {
        "id": "X76oSJh5O6N2",
        "outputId": "8a787728-bf9d-417c-fbfe-d0961ea868d6",
        "colab": {
          "base_uri": "https://localhost:8080/",
          "height": 295
        }
      },
      "execution_count": 120,
      "outputs": [
        {
          "output_type": "display_data",
          "data": {
            "text/plain": [
              "<Figure size 432x288 with 1 Axes>"
            ],
            "image/png": "[encoded data removed]"
          },
          "metadata": {
            "needs_background": "light"
          }
        }
      ]
    }
  ]
}