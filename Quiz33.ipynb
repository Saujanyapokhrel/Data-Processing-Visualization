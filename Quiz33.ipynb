{
  "nbformat": 4,
  "nbformat_minor": 0,
  "metadata": {
    "colab": {
      "name": "Untitled36.ipynb",
      "provenance": [],
      "authorship_tag": "ABX9TyMd8spNiaiiU1K5/kTt0Rd9",
      "include_colab_link": true
    },
    "kernelspec": {
      "name": "python3",
      "display_name": "Python 3"
    },
    "language_info": {
      "name": "python"
    }
  },
  "cells": [
    {
      "cell_type": "markdown",
      "metadata": {
        "id": "view-in-github",
        "colab_type": "text"
      },
      "source": [
        "<a href=\"https://colab.research.google.com/github/Saujanyapokhrel/Data-Processing-Visualization/blob/main/Quiz33.ipynb\" target=\"_parent\"><img src=\"https://colab.research.google.com/assets/colab-badge.svg\" alt=\"Open In Colab\"/></a>"
      ]
    },
    {
      "cell_type": "markdown",
      "source": [
        "#Did you sumbit proposals for both Recreating the Masters AND Recent Visualizations?  A simple yes or no is fine.  If no, get them in tonight for full marks.  This is the last quiz, yeah!"
      ],
      "metadata": {
        "id": "iyj0CQw8IYL8"
      }
    },
    {
      "cell_type": "markdown",
      "source": [
        "#Yes I have submitted the proposals for both recreating the masters and recent visualization."
      ],
      "metadata": {
        "id": "IfMQr57nIlQU"
      }
    }
  ]
}