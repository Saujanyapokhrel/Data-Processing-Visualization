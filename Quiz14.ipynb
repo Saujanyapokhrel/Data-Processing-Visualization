{
  "nbformat": 4,
  "nbformat_minor": 0,
  "metadata": {
    "colab": {
      "name": "Untitled16.ipynb",
      "provenance": [],
      "authorship_tag": "ABX9TyMs7WFUMecucq1nEVJmI3TN",
      "include_colab_link": true
    },
    "kernelspec": {
      "name": "python3",
      "display_name": "Python 3"
    },
    "language_info": {
      "name": "python"
    }
  },
  "cells": [
    {
      "cell_type": "markdown",
      "metadata": {
        "id": "view-in-github",
        "colab_type": "text"
      },
      "source": [
        "<a href=\"https://colab.research.google.com/github/Saujanyapokhrel/Data-Processing-Visualization/blob/main/Quiz14.ipynb\" target=\"_parent\"><img src=\"https://colab.research.google.com/assets/colab-badge.svg\" alt=\"Open In Colab\"/></a>"
      ]
    },
    {
      "cell_type": "markdown",
      "source": [
        "#creating a wish with a traditional birthday song"
      ],
      "metadata": {
        "id": "gDUe8e8dCnvy"
      }
    },
    {
      "cell_type": "code",
      "source": [
        "wish = \"Happy Birthday to You, cha, cha, cha.\\nHappy Birthday to You, cha, cha, cha.\\nHappy Birthday Dear (name)\\nHappy Birthday to You, cha, cha, cha.\""
      ],
      "metadata": {
        "id": "53llNOG2BbgQ"
      },
      "execution_count": 10,
      "outputs": []
    },
    {
      "cell_type": "markdown",
      "source": [
        "#creating a new with where name in the previous wish is replaced with my name"
      ],
      "metadata": {
        "id": "34klxzDLCt-J"
      }
    },
    {
      "cell_type": "code",
      "source": [
        "birthday_wish = wish.replace('(name)', 'Saujanya')"
      ],
      "metadata": {
        "id": "niNJzjXAB-JK"
      },
      "execution_count": 11,
      "outputs": []
    },
    {
      "cell_type": "markdown",
      "source": [
        "##printing the new wish that includes my name."
      ],
      "metadata": {
        "id": "HDVx97t6C3Kf"
      }
    },
    {
      "cell_type": "code",
      "source": [
        "print(birthday_wish)"
      ],
      "metadata": {
        "colab": {
          "base_uri": "https://localhost:8080/"
        },
        "id": "3Xy5fSs7CNsB",
        "outputId": "6413dd55-65f4-4a1c-ba23-bdea3839554c"
      },
      "execution_count": 12,
      "outputs": [
        {
          "output_type": "stream",
          "name": "stdout",
          "text": [
            "Happy Birthday to You, cha, cha, cha.\n",
            "Happy Birthday to You, cha, cha, cha.\n",
            "Happy Birthday Dear Saujanya\n",
            "Happy Birthday to You, cha, cha, cha.\n"
          ]
        }
      ]
    }
  ]
}