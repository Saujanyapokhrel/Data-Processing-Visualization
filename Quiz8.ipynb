{
  "nbformat": 4,
  "nbformat_minor": 0,
  "metadata": {
    "colab": {
      "name": "Untitled9.ipynb",
      "provenance": [],
      "authorship_tag": "ABX9TyOwBf2ZT/d+gCnOfjguo9QC",
      "include_colab_link": true
    },
    "kernelspec": {
      "name": "python3",
      "display_name": "Python 3"
    },
    "language_info": {
      "name": "python"
    }
  },
  "cells": [
    {
      "cell_type": "markdown",
      "metadata": {
        "id": "view-in-github",
        "colab_type": "text"
      },
      "source": [
        "<a href=\"https://colab.research.google.com/github/Saujanyapokhrel/Data-Processing-Visualization/blob/main/Quiz8.ipynb\" target=\"_parent\"><img src=\"https://colab.research.google.com/assets/colab-badge.svg\" alt=\"Open In Colab\"/></a>"
      ]
    },
    {
      "cell_type": "markdown",
      "source": [
        "Importing the library"
      ],
      "metadata": {
        "id": "MBQWlHS-VJT4"
      }
    },
    {
      "cell_type": "code",
      "execution_count": 15,
      "metadata": {
        "id": "LFEVqJTxQGsN"
      },
      "outputs": [],
      "source": [
        "import requests\n",
        "import pandas as pd\n",
        "from bs4 import BeautifulSoup"
      ]
    },
    {
      "cell_type": "markdown",
      "source": [
        "The show I have decided to go with is FRIENDS.\n",
        "https://en.wikipedia.org/wiki/Friends"
      ],
      "metadata": {
        "id": "v4VrCsnrU3AE"
      }
    },
    {
      "cell_type": "code",
      "source": [
        "r = requests.get('https://en.wikipedia.org/wiki/Friends')\n",
        "html_contents = r.text\n",
        "html_soup = BeautifulSoup(html_contents,\"lxml\")"
      ],
      "metadata": {
        "id": "LSmvtGatQgWH"
      },
      "execution_count": 10,
      "outputs": []
    },
    {
      "cell_type": "markdown",
      "source": [
        "Getting the title for the page"
      ],
      "metadata": {
        "id": "tS5jHDXCU8eL"
      }
    },
    {
      "cell_type": "code",
      "source": [
        "html_soup.title"
      ],
      "metadata": {
        "colab": {
          "base_uri": "https://localhost:8080/"
        },
        "id": "EV5IyJGyQ-Ba",
        "outputId": "b65e507b-73a6-4970-eae6-bc0ea95e2973"
      },
      "execution_count": 11,
      "outputs": [
        {
          "output_type": "execute_result",
          "data": {
            "text/plain": [
              "<title>Friends - Wikipedia</title>"
            ]
          },
          "metadata": {},
          "execution_count": 11
        }
      ]
    },
    {
      "cell_type": "markdown",
      "source": [
        "Getting the table with all the links from the wikipedia page"
      ],
      "metadata": {
        "id": "Rf2NjbhXVeZP"
      }
    },
    {
      "cell_type": "code",
      "source": [
        "html_soup.table"
      ],
      "metadata": {
        "colab": {
          "base_uri": "https://localhost:8080/"
        },
        "id": "lnuv9t1hRBmY",
        "outputId": "87c1c5f2-b7f2-413e-84f4-2cdc2f2b16c8"
      },
      "execution_count": 12,
      "outputs": [
        {
          "output_type": "execute_result",
          "data": {
            "text/plain": [
              "<table class=\"infobox vevent\"><tbody><tr><th class=\"infobox-above summary\" colspan=\"2\" style=\"background: #CCCCFF; padding: 0.25em 1em; font-size: 125%;\"><i>Friends</i></th></tr><tr><td class=\"infobox-image\" colspan=\"2\"><a class=\"image\" href=\"/wiki/File:Friends_logo.svg\"><img alt=\"Friends logo.svg\" data-file-height=\"196\" data-file-width=\"1186\" decoding=\"async\" height=\"41\" src=\"//upload.wikimedia.org/wikipedia/commons/thumb/b/bc/Friends_logo.svg/250px-Friends_logo.svg.png\" srcset=\"//upload.wikimedia.org/wikipedia/commons/thumb/b/bc/Friends_logo.svg/375px-Friends_logo.svg.png 1.5x, //upload.wikimedia.org/wikipedia/commons/thumb/b/bc/Friends_logo.svg/500px-Friends_logo.svg.png 2x\" width=\"250\"/></a></td></tr><tr><th class=\"infobox-label\" scope=\"row\">Genre</th><td class=\"infobox-data category\">Sitcom</td></tr><tr><th class=\"infobox-label\" scope=\"row\">Created by</th><td class=\"infobox-data\"><div class=\"plainlist\">\n",
              "<ul><li><a href=\"/wiki/David_Crane_(producer)\" title=\"David Crane (producer)\">David Crane</a></li>\n",
              "<li><a href=\"/wiki/Marta_Kauffman\" title=\"Marta Kauffman\">Marta Kauffman</a></li></ul>\n",
              "</div></td></tr><tr><th class=\"infobox-label\" scope=\"row\">Starring</th><td class=\"infobox-data attendee\"><div class=\"plainlist\">\n",
              "<ul><li><a href=\"/wiki/Jennifer_Aniston\" title=\"Jennifer Aniston\">Jennifer Aniston</a></li>\n",
              "<li><a href=\"/wiki/Courteney_Cox\" title=\"Courteney Cox\">Courteney Cox</a></li>\n",
              "<li><a href=\"/wiki/Lisa_Kudrow\" title=\"Lisa Kudrow\">Lisa Kudrow</a></li>\n",
              "<li><a href=\"/wiki/Matt_LeBlanc\" title=\"Matt LeBlanc\">Matt LeBlanc</a></li>\n",
              "<li><a href=\"/wiki/Matthew_Perry\" title=\"Matthew Perry\">Matthew Perry</a></li>\n",
              "<li><a href=\"/wiki/David_Schwimmer\" title=\"David Schwimmer\">David Schwimmer</a></li></ul>\n",
              "</div></td></tr><tr><th class=\"infobox-label\" scope=\"row\">Theme music composer</th><td class=\"infobox-data\"><div class=\"plainlist\">\n",
              "<ul><li>Michael Skloff</li>\n",
              "<li><a href=\"/wiki/Allee_Willis\" title=\"Allee Willis\">Allee Willis</a></li></ul>\n",
              "</div></td></tr><tr><th class=\"infobox-label\" scope=\"row\">Opening theme</th><td class=\"infobox-data\">\"<a href=\"/wiki/I%27ll_Be_There_for_You_(The_Rembrandts_song)\" title=\"I'll Be There for You (The Rembrandts song)\">I'll Be There for You</a>\"<br/>by <a href=\"/wiki/The_Rembrandts\" title=\"The Rembrandts\">The Rembrandts</a></td></tr><tr><th class=\"infobox-label\" scope=\"row\">Country of origin</th><td class=\"infobox-data\">United States</td></tr><tr><th class=\"infobox-label\" scope=\"row\">Original language</th><td class=\"infobox-data\">English</td></tr><tr><th class=\"infobox-label\" scope=\"row\"><abbr title=\"Number\">No.</abbr> of seasons</th><td class=\"infobox-data\">10</td></tr><tr><th class=\"infobox-label\" scope=\"row\"><abbr title=\"Number\">No.</abbr> of episodes</th><td class=\"infobox-data\">236 <span class=\"nowrap\">(<a href=\"/wiki/List_of_Friends_episodes\" title=\"List of Friends episodes\">list of episodes</a>)</span></td></tr><tr><th class=\"infobox-header summary\" colspan=\"2\" style=\"background: #CCCCFF; padding: 0.25em 1em;\">Production</th></tr><tr><th class=\"infobox-label\" scope=\"row\">Executive producers</th><td class=\"infobox-data\"><div class=\"plainlist\">\n",
              "<ul><li>David Crane</li>\n",
              "<li>Marta Kauffman</li>\n",
              "<li><a href=\"/wiki/Kevin_S._Bright\" title=\"Kevin S. Bright\">Kevin S. Bright</a></li>\n",
              "<li><a href=\"/wiki/Michael_Borkow\" title=\"Michael Borkow\">Michael Borkow</a> (season 4)</li>\n",
              "<li><a href=\"/wiki/Michael_Curtis_(TV_producer)\" title=\"Michael Curtis (TV producer)\">Michael Curtis</a> (season 5)</li>\n",
              "<li><a href=\"/wiki/Adam_Chase_(writer)\" title=\"Adam Chase (writer)\">Adam Chase</a> (seasons 5–6)</li>\n",
              "<li><a href=\"/wiki/Greg_Malins\" title=\"Greg Malins\">Greg Malins</a> (seasons 5–7)</li>\n",
              "<li><a href=\"/wiki/Wil_Calhoun\" title=\"Wil Calhoun\">Wil Calhoun</a> (season 7)</li>\n",
              "<li><a href=\"/wiki/Scott_Silveri\" title=\"Scott Silveri\">Scott Silveri</a> (seasons 8–10)</li>\n",
              "<li><a href=\"/wiki/Shana_Goldberg-Meehan\" title=\"Shana Goldberg-Meehan\">Shana Goldberg-Meehan</a> (seasons 8–10)</li>\n",
              "<li><a href=\"/wiki/Andrew_Reich\" title=\"Andrew Reich\">Andrew Reich</a> (seasons 8–10)</li>\n",
              "<li>Ted Cohen (seasons 8–10)</li></ul>\n",
              "</div></td></tr><tr><th class=\"infobox-label\" scope=\"row\">Production locations</th><td class=\"infobox-data\"><a href=\"/wiki/Warner_Bros._Studios,_Burbank\" title=\"Warner Bros. Studios, Burbank\">Warner Bros. Studios</a>, <a href=\"/wiki/Burbank,_California\" title=\"Burbank, California\">Burbank</a>,\n",
              "California</td></tr><tr><th class=\"infobox-label\" scope=\"row\">Camera setup</th><td class=\"infobox-data\"><a href=\"/wiki/Multiple-camera_setup\" title=\"Multiple-camera setup\">Multi-camera</a></td></tr><tr><th class=\"infobox-label\" scope=\"row\">Running time</th><td class=\"infobox-data\">20–22 minutes (per episode)<br/>22–65 minutes (extended international TV &amp; DVD episodes)</td></tr><tr><th class=\"infobox-label\" scope=\"row\">Production companies</th><td class=\"infobox-data\"><div class=\"plainlist\">\n",
              "<ul><li><a href=\"/wiki/Kevin_S._Bright\" title=\"Kevin S. Bright\">Bright/Kauffman/Crane Productions</a></li>\n",
              "<li><a class=\"mw-redirect\" href=\"/wiki/Warner_Bros._Television\" title=\"Warner Bros. Television\">Warner Bros. Television</a></li></ul>\n",
              "</div></td></tr><tr><th class=\"infobox-label\" scope=\"row\">Distributor</th><td class=\"infobox-data\"><a class=\"mw-redirect\" href=\"/wiki/Warner_Bros._Television_Distribution\" title=\"Warner Bros. Television Distribution\">Warner Bros. Television Distribution</a></td></tr><tr><th class=\"infobox-header summary\" colspan=\"2\" style=\"background: #CCCCFF; padding: 0.25em 1em;\">Release</th></tr><tr><th class=\"infobox-label\" scope=\"row\">Original network</th><td class=\"infobox-data\"><a href=\"/wiki/NBC\" title=\"NBC\">NBC</a></td></tr><tr><th class=\"infobox-label\" scope=\"row\">Picture format</th><td class=\"infobox-data\"><a href=\"/wiki/NTSC\" title=\"NTSC\">NTSC</a></td></tr><tr><th class=\"infobox-label\" scope=\"row\">Audio format</th><td class=\"infobox-data\"><a class=\"mw-redirect\" href=\"/wiki/Dolby_Surround\" title=\"Dolby Surround\">Dolby Surround</a></td></tr><tr><th class=\"infobox-label\" scope=\"row\">Original release</th><td class=\"infobox-data\">September 22, 1994<span style=\"display:none\"> (<span class=\"bday dtstart published updated\">1994-09-22</span>)</span> –<br/>May 6, 2004<span style=\"display:none\"> (<span class=\"dtend\">2004-05-06</span>)</span></td></tr><tr><th class=\"infobox-header summary\" colspan=\"2\" style=\"background: #CCCCFF; padding: 0.25em 1em;\">Chronology</th></tr><tr><th class=\"infobox-label\" scope=\"row\">Followed by</th><td class=\"infobox-data\"><i><a href=\"/wiki/Joey_(TV_series)\" title=\"Joey (TV series)\">Joey</a></i> (2004–2006)<br/><i><a href=\"/wiki/Friends:_The_Reunion\" title=\"Friends: The Reunion\">Friends: The Reunion</a></i> (2021)</td></tr></tbody></table>"
            ]
          },
          "metadata": {},
          "execution_count": 12
        }
      ]
    },
    {
      "cell_type": "markdown",
      "source": [
        ""
      ],
      "metadata": {
        "id": "2BYrGDLIV0wX"
      }
    },
    {
      "cell_type": "code",
      "source": [
        "html_soup.table.find_all('a')"
      ],
      "metadata": {
        "colab": {
          "base_uri": "https://localhost:8080/"
        },
        "id": "P6BeUgOJRIAY",
        "outputId": "d015bbc4-97f7-4eef-cb1e-7fc2e57b010d"
      },
      "execution_count": 13,
      "outputs": [
        {
          "output_type": "execute_result",
          "data": {
            "text/plain": [
              "[<a class=\"image\" href=\"/wiki/File:Friends_logo.svg\"><img alt=\"Friends logo.svg\" data-file-height=\"196\" data-file-width=\"1186\" decoding=\"async\" height=\"41\" src=\"//upload.wikimedia.org/wikipedia/commons/thumb/b/bc/Friends_logo.svg/250px-Friends_logo.svg.png\" srcset=\"//upload.wikimedia.org/wikipedia/commons/thumb/b/bc/Friends_logo.svg/375px-Friends_logo.svg.png 1.5x, //upload.wikimedia.org/wikipedia/commons/thumb/b/bc/Friends_logo.svg/500px-Friends_logo.svg.png 2x\" width=\"250\"/></a>,\n",
              " <a href=\"/wiki/David_Crane_(producer)\" title=\"David Crane (producer)\">David Crane</a>,\n",
              " <a href=\"/wiki/Marta_Kauffman\" title=\"Marta Kauffman\">Marta Kauffman</a>,\n",
              " <a href=\"/wiki/Jennifer_Aniston\" title=\"Jennifer Aniston\">Jennifer Aniston</a>,\n",
              " <a href=\"/wiki/Courteney_Cox\" title=\"Courteney Cox\">Courteney Cox</a>,\n",
              " <a href=\"/wiki/Lisa_Kudrow\" title=\"Lisa Kudrow\">Lisa Kudrow</a>,\n",
              " <a href=\"/wiki/Matt_LeBlanc\" title=\"Matt LeBlanc\">Matt LeBlanc</a>,\n",
              " <a href=\"/wiki/Matthew_Perry\" title=\"Matthew Perry\">Matthew Perry</a>,\n",
              " <a href=\"/wiki/David_Schwimmer\" title=\"David Schwimmer\">David Schwimmer</a>,\n",
              " <a href=\"/wiki/Allee_Willis\" title=\"Allee Willis\">Allee Willis</a>,\n",
              " <a href=\"/wiki/I%27ll_Be_There_for_You_(The_Rembrandts_song)\" title=\"I'll Be There for You (The Rembrandts song)\">I'll Be There for You</a>,\n",
              " <a href=\"/wiki/The_Rembrandts\" title=\"The Rembrandts\">The Rembrandts</a>,\n",
              " <a href=\"/wiki/List_of_Friends_episodes\" title=\"List of Friends episodes\">list of episodes</a>,\n",
              " <a href=\"/wiki/Kevin_S._Bright\" title=\"Kevin S. Bright\">Kevin S. Bright</a>,\n",
              " <a href=\"/wiki/Michael_Borkow\" title=\"Michael Borkow\">Michael Borkow</a>,\n",
              " <a href=\"/wiki/Michael_Curtis_(TV_producer)\" title=\"Michael Curtis (TV producer)\">Michael Curtis</a>,\n",
              " <a href=\"/wiki/Adam_Chase_(writer)\" title=\"Adam Chase (writer)\">Adam Chase</a>,\n",
              " <a href=\"/wiki/Greg_Malins\" title=\"Greg Malins\">Greg Malins</a>,\n",
              " <a href=\"/wiki/Wil_Calhoun\" title=\"Wil Calhoun\">Wil Calhoun</a>,\n",
              " <a href=\"/wiki/Scott_Silveri\" title=\"Scott Silveri\">Scott Silveri</a>,\n",
              " <a href=\"/wiki/Shana_Goldberg-Meehan\" title=\"Shana Goldberg-Meehan\">Shana Goldberg-Meehan</a>,\n",
              " <a href=\"/wiki/Andrew_Reich\" title=\"Andrew Reich\">Andrew Reich</a>,\n",
              " <a href=\"/wiki/Warner_Bros._Studios,_Burbank\" title=\"Warner Bros. Studios, Burbank\">Warner Bros. Studios</a>,\n",
              " <a href=\"/wiki/Burbank,_California\" title=\"Burbank, California\">Burbank</a>,\n",
              " <a href=\"/wiki/Multiple-camera_setup\" title=\"Multiple-camera setup\">Multi-camera</a>,\n",
              " <a href=\"/wiki/Kevin_S._Bright\" title=\"Kevin S. Bright\">Bright/Kauffman/Crane Productions</a>,\n",
              " <a class=\"mw-redirect\" href=\"/wiki/Warner_Bros._Television\" title=\"Warner Bros. Television\">Warner Bros. Television</a>,\n",
              " <a class=\"mw-redirect\" href=\"/wiki/Warner_Bros._Television_Distribution\" title=\"Warner Bros. Television Distribution\">Warner Bros. Television Distribution</a>,\n",
              " <a href=\"/wiki/NBC\" title=\"NBC\">NBC</a>,\n",
              " <a href=\"/wiki/NTSC\" title=\"NTSC\">NTSC</a>,\n",
              " <a class=\"mw-redirect\" href=\"/wiki/Dolby_Surround\" title=\"Dolby Surround\">Dolby Surround</a>,\n",
              " <a href=\"/wiki/Joey_(TV_series)\" title=\"Joey (TV series)\">Joey</a>,\n",
              " <a href=\"/wiki/Friends:_The_Reunion\" title=\"Friends: The Reunion\">Friends: The Reunion</a>]"
            ]
          },
          "metadata": {},
          "execution_count": 13
        }
      ]
    },
    {
      "cell_type": "code",
      "source": [
        "from tabulate import tabulate\n",
        "table = html_soup.find_all(class_ = 'infobox vevent')[0] \n",
        "df = pd.read_html(str(table))\n",
        "print( tabulate(df[0], headers='keys', tablefmt='psql') )"
      ],
      "metadata": {
        "colab": {
          "base_uri": "https://localhost:8080/"
        },
        "id": "xhmbrLVDRJDu",
        "outputId": "247b5a11-d65d-4491-cb19-fbddde5a3b01"
      },
      "execution_count": 16,
      "outputs": [
        {
          "output_type": "stream",
          "name": "stdout",
          "text": [
            "+----+----------------------+-------------------------------------------------------------------------------------------------------------------------------------------------------------------------------------------------------------------------------------------------------------------------------------------------+\n",
            "|    | Friends              | Friends.1                                                                                                                                                                                                                                                                                       |\n",
            "|----+----------------------+-------------------------------------------------------------------------------------------------------------------------------------------------------------------------------------------------------------------------------------------------------------------------------------------------|\n",
            "|  0 | nan                  | nan                                                                                                                                                                                                                                                                                             |\n",
            "|  1 | Genre                | Sitcom                                                                                                                                                                                                                                                                                          |\n",
            "|  2 | Created by           | David Crane Marta Kauffman                                                                                                                                                                                                                                                                      |\n",
            "|  3 | Starring             | Jennifer Aniston Courteney Cox Lisa Kudrow Matt LeBlanc Matthew Perry David Schwimmer                                                                                                                                                                                                           |\n",
            "|  4 | Theme music composer | Michael Skloff Allee Willis                                                                                                                                                                                                                                                                     |\n",
            "|  5 | Opening theme        | \"I'll Be There for You\"by The Rembrandts                                                                                                                                                                                                                                                        |\n",
            "|  6 | Country of origin    | United States                                                                                                                                                                                                                                                                                   |\n",
            "|  7 | Original language    | English                                                                                                                                                                                                                                                                                         |\n",
            "|  8 | No. of seasons       | 10                                                                                                                                                                                                                                                                                              |\n",
            "|  9 | No. of episodes      | 236 (list of episodes)                                                                                                                                                                                                                                                                          |\n",
            "| 10 | Production           | Production                                                                                                                                                                                                                                                                                      |\n",
            "| 11 | Executive producers  | David Crane Marta Kauffman Kevin S. Bright Michael Borkow (season 4) Michael Curtis (season 5) Adam Chase (seasons 5–6) Greg Malins (seasons 5–7) Wil Calhoun (season 7) Scott Silveri (seasons 8–10) Shana Goldberg-Meehan (seasons 8–10) Andrew Reich (seasons 8–10) Ted Cohen (seasons 8–10) |\n",
            "| 12 | Production locations | Warner Bros. Studios, Burbank, California                                                                                                                                                                                                                                                       |\n",
            "| 13 | Camera setup         | Multi-camera                                                                                                                                                                                                                                                                                    |\n",
            "| 14 | Running time         | 20–22 minutes (per episode)22–65 minutes (extended international TV & DVD episodes)                                                                                                                                                                                                             |\n",
            "| 15 | Production companies | Bright/Kauffman/Crane Productions Warner Bros. Television                                                                                                                                                                                                                                       |\n",
            "| 16 | Distributor          | Warner Bros. Television Distribution                                                                                                                                                                                                                                                            |\n",
            "| 17 | Release              | Release                                                                                                                                                                                                                                                                                         |\n",
            "| 18 | Original network     | NBC                                                                                                                                                                                                                                                                                             |\n",
            "| 19 | Picture format       | NTSC                                                                                                                                                                                                                                                                                            |\n",
            "| 20 | Audio format         | Dolby Surround                                                                                                                                                                                                                                                                                  |\n",
            "| 21 | Original release     | September 22, 1994May 6, 2004                                                                                                                                                                                                                                                                   |\n",
            "| 22 | Chronology           | Chronology                                                                                                                                                                                                                                                                                      |\n",
            "| 23 | Followed by          | Joey (2004–2006)Friends: The Reunion (2021)                                                                                                                                                                                                                                                     |\n",
            "+----+----------------------+-------------------------------------------------------------------------------------------------------------------------------------------------------------------------------------------------------------------------------------------------------------------------------------------------+\n"
          ]
        }
      ]
    },
    {
      "cell_type": "code",
      "source": [
        "table = html_soup.find_all(class_ = 'wikitable plainrowheaders')[0]\n",
        "dataFrame = pd.read_html(str(table))\n",
        "print( tabulate(dataFrame[0], headers='keys', tablefmt='psql') )"
      ],
      "metadata": {
        "colab": {
          "base_uri": "https://localhost:8080/"
        },
        "id": "ky3mUiwPRu_L",
        "outputId": "c9d47f57-0407-40cc-8241-e2f1b9630850"
      },
      "execution_count": 17,
      "outputs": [
        {
          "output_type": "stream",
          "name": "stdout",
          "text": [
            "+----+------------------------+--------------------------------------------------+------------------------------------------+--------------------------------------+------------------------------+--------------------+----------------------------------------------------+------------------------------------------------------+----------------------------------------------------+\n",
            "|    |   ('Season', 'Season') | ('Timeslot', 'Timeslot')                         | ('Season premiere', 'Season premiere')   | ('Season finale', 'Season finale')   | ('TV season', 'TV season')   |   ('Rank', 'Rank') | ('Viewers(in millions)', 'Viewers(in millions)')   | ('Most-watched episode', 'Title')                    | ('Most-watched episode', 'Viewers(in millions)')   |\n",
            "|----+------------------------+--------------------------------------------------+------------------------------------------+--------------------------------------+------------------------------+--------------------+----------------------------------------------------+------------------------------------------------------+----------------------------------------------------|\n",
            "|  0 |                      1 | Thursday 8:30 pm (1–16) Thursday 9:30 pm (17–24) | September 22, 1994                       | May 18, 1995                         | 1994–95                      |                  8 | 24.3[105]                                          | \"The One Where Rachel Finds Out\"                     | 31.3[106]                                          |\n",
            "|  1 |                      2 | Thursday 8:00 pm                                 | September 21, 1995                       | May 16, 1996                         | 1995–96                      |                  3 | 30[105]                                            | \"The One After the Superbowl\"                        | 52.9[106]                                          |\n",
            "|  2 |                      3 | Thursday 8:00 pm                                 | September 19, 1996                       | May 15, 1997                         | 1996–97                      |                  4 | 24.9[105]                                          | \"The One Where Chandler Can't Remember Which Sister\" | 29.8[citation needed]                              |\n",
            "|  3 |                      4 | Thursday 8:00 pm                                 | September 25, 1997                       | May 7, 1998                          | 1997–98                      |                  4 | 24.0[105]                                          | \"The One with Ross's Wedding\"                        | 31.6[106]                                          |\n",
            "|  4 |                      5 | Thursday 8:00 pm                                 | September 24, 1998                       | May 20, 1999                         | 1998–99                      |                  2 | 23.5[105]                                          | \"The One After Ross Says Rachel\"                     | 30.9[106]                                          |\n",
            "|  5 |                      6 | Thursday 8:00 pm                                 | September 23, 1999                       | May 18, 2000                         | 1999–2000                    |                  5 | 20.7[105]                                          | \"The One with the Proposal\"                          | 30.7[106]                                          |\n",
            "|  6 |                      7 | Thursday 8:00 pm                                 | October 12, 2000                         | May 17, 2001                         | 2000–01                      |                  5 | 20.2[105]                                          | \"The One with Monica and Chandler's Wedding\"         | 30.1[106]                                          |\n",
            "|  7 |                      8 | Thursday 8:00 pm                                 | September 27, 2001                       | May 16, 2002                         | 2001–02                      |                  1 | 24.5[105]                                          | \"The One Where Rachel Has a Baby\"                    | 34.9[106]                                          |\n",
            "|  8 |                      9 | Thursday 8:00 pm                                 | September 26, 2002                       | May 15, 2003                         | 2002–03                      |                  2 | 21.8[105]                                          | \"The One Where No One Proposes\"                      | 34.0[106]                                          |\n",
            "|  9 |                     10 | Thursday 8:00 pm                                 | September 25, 2003                       | May 6, 2004                          | 2003–04                      |                  4 | 22.8[105]                                          | \"The Last One\"                                       | 52.5[4]                                            |\n",
            "+----+------------------------+--------------------------------------------------+------------------------------------------+--------------------------------------+------------------------------+--------------------+----------------------------------------------------+------------------------------------------------------+----------------------------------------------------+\n"
          ]
        }
      ]
    }
  ]
}