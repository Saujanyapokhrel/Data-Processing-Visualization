{
  "nbformat": 4,
  "nbformat_minor": 0,
  "metadata": {
    "colab": {
      "name": "Untitled24.ipynb",
      "provenance": [],
      "authorship_tag": "ABX9TyMK7SnYX+kug2Mxc1EtaHeo",
      "include_colab_link": true
    },
    "kernelspec": {
      "name": "python3",
      "display_name": "Python 3"
    },
    "language_info": {
      "name": "python"
    }
  },
  "cells": [
    {
      "cell_type": "markdown",
      "metadata": {
        "id": "view-in-github",
        "colab_type": "text"
      },
      "source": [
        "<a href=\"https://colab.research.google.com/github/Saujanyapokhrel/Data-Processing-Visualization/blob/main/Quiz22.ipynb\" target=\"_parent\"><img src=\"https://colab.research.google.com/assets/colab-badge.svg\" alt=\"Open In Colab\"/></a>"
      ]
    },
    {
      "cell_type": "markdown",
      "source": [
        "#Evaluating Online Reviews and Using Them to Investigate Branding Opportunities for Lakeside Women’s Hospital \n",
        "\n",
        "\n",
        "\n",
        "\n",
        "##https://symposium.foragerone.com/okrd22/presentations/37138"
      ],
      "metadata": {
        "id": "1Pcxe7_ANlGo"
      }
    },
    {
      "cell_type": "markdown",
      "source": [
        "##Looking at the bar chart, it is a very simple representation how people have reviewed the Lakeside Women's Hospital. The bar chart has been color coded so that it is easy to visualize.  The number of ratings based upon online review and instagram content has been clearly reflected and easier to understand. This is the strength of the bar chart however the weakness of the bar chart is that the color code of the online review is a bit fade and blends in with the background.\n",
        "##The bar chart represents excellence as most of review came from the online review rather than from the instagram content."
      ],
      "metadata": {
        "id": "6VV1Ba_rPW2N"
      }
    },
    {
      "cell_type": "markdown",
      "source": [
        ""
      ],
      "metadata": {
        "id": "Vu4dHI8WWm6h"
      }
    }
  ]
}