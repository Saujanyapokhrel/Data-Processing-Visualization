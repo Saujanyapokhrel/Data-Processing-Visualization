{
  "nbformat": 4,
  "nbformat_minor": 0,
  "metadata": {
    "colab": {
      "name": "Untitled24.ipynb",
      "provenance": [],
      "authorship_tag": "ABX9TyN/VzLiKBaolSH5enphiq8N",
      "include_colab_link": true
    },
    "kernelspec": {
      "name": "python3",
      "display_name": "Python 3"
    },
    "language_info": {
      "name": "python"
    }
  },
  "cells": [
    {
      "cell_type": "markdown",
      "metadata": {
        "id": "view-in-github",
        "colab_type": "text"
      },
      "source": [
        "<a href=\"https://colab.research.google.com/github/Saujanyapokhrel/Data-Processing-Visualization/blob/main/Quiz22.ipynb\" target=\"_parent\"><img src=\"https://colab.research.google.com/assets/colab-badge.svg\" alt=\"Open In Colab\"/></a>"
      ]
    },
    {
      "cell_type": "markdown",
      "source": [
        "#Evaluating Online Reviews and Using Them to Investigate Branding Opportunities for Lakeside Women’s Hospital \n",
        "\n",
        "\n",
        "\n",
        "\n",
        "##https://symposium.foragerone.com/okrd22/presentations/37138"
      ],
      "metadata": {
        "id": "1Pcxe7_ANlGo"
      }
    },
    {
      "cell_type": "markdown",
      "source": [
        "##Looking at the bar chart, it is a very simple representation how people have reviewed the Lakeside Women's Hospital. The bar chart has been color coded so that it is easy to visualize.  The number of ratings based upon online review and instagram content has been clearly reflected and easier to understand. This is the strength of the bar chart however the weakness of the bar chart is that the color code of the online review is a bit fade and blends in with the background.\n",
        "##The bar chart represents excellence as most of review came from the online review rather than from the instagram content."
      ],
      "metadata": {
        "id": "6VV1Ba_rPW2N"
      }
    },
    {
      "cell_type": "markdown",
      "source": [
        "#A Longitudinal Analysis of Gender Disparities in the National Cancer Institute Study Section A \n",
        "\n",
        "#https://symposium.foragerone.com/okrd22/presentations/37211"
      ],
      "metadata": {
        "id": "Vu4dHI8WWm6h"
      }
    },
    {
      "cell_type": "markdown",
      "source": [
        "## The bar chart shows the gender comparison of NCI-A panel in the year 2011, 2016, and 2021. The bar chart is simple and very understandable as as the number males and female have been color coded very well and the range of numbers have been clearly mentioned. This is the strength of the bar chart and I do not see any wekness.\n",
        "##The bar chart represents excellence as it clearly represents the number of males and females in the NCI-A panel in the year 2011, 2016, and 2021."
      ],
      "metadata": {
        "id": "et3n9OouYj1n"
      }
    },
    {
      "cell_type": "markdown",
      "source": [
        ""
      ],
      "metadata": {
        "id": "PlJbFSTSeCta"
      }
    }
  ]
}